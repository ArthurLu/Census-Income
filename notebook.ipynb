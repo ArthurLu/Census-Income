{
 "cells": [
  {
   "cell_type": "markdown",
   "metadata": {},
   "source": [
    "## Data Exploration"
   ]
  },
  {
   "cell_type": "code",
   "execution_count": 1,
   "metadata": {
    "collapsed": true
   },
   "outputs": [],
   "source": [
    "import pandas as pd\n",
    "import numpy as np\n",
    "\n",
    "%matplotlib inline\n",
    "import matplotlib.pyplot as plt\n",
    "plt.rcParams['figure.figsize'] = (8, 6)"
   ]
  },
  {
   "cell_type": "code",
   "execution_count": 2,
   "metadata": {
    "collapsed": true
   },
   "outputs": [],
   "source": [
    "train = pd.read_csv('train.csv')\n",
    "test = pd.read_csv('test.csv')"
   ]
  },
  {
   "cell_type": "code",
   "execution_count": 5,
   "metadata": {
    "collapsed": false
   },
   "outputs": [
    {
     "name": "stdout",
     "output_type": "stream",
     "text": [
      "Dimension of training data: (199523, 41)\n",
      "Dimension of testing data: (99762, 41)\n"
     ]
    }
   ],
   "source": [
    "print 'Dimension of training data: {}'.format(train.shape)\n",
    "print 'Dimension of testing data: {}'.format(test.shape)"
   ]
  },
  {
   "cell_type": "code",
   "execution_count": 6,
   "metadata": {
    "collapsed": false
   },
   "outputs": [
    {
     "data": {
      "text/html": [
       "<div>\n",
       "<table border=\"1\" class=\"dataframe\">\n",
       "  <thead>\n",
       "    <tr style=\"text-align: right;\">\n",
       "      <th></th>\n",
       "      <th>age</th>\n",
       "      <th>class_of_worker</th>\n",
       "      <th>industry_code</th>\n",
       "      <th>occupation_code</th>\n",
       "      <th>education</th>\n",
       "      <th>wage_per_hour</th>\n",
       "      <th>enrolled_in_edu_inst_lastwk</th>\n",
       "      <th>marital_status</th>\n",
       "      <th>major_industry_code</th>\n",
       "      <th>major_occupation_code</th>\n",
       "      <th>...</th>\n",
       "      <th>country_father</th>\n",
       "      <th>country_mother</th>\n",
       "      <th>country_self</th>\n",
       "      <th>citizenship</th>\n",
       "      <th>business_or_self_employed</th>\n",
       "      <th>fill_questionnaire_veteran_admin</th>\n",
       "      <th>veterans_benefits</th>\n",
       "      <th>weeks_worked_in_year</th>\n",
       "      <th>year</th>\n",
       "      <th>income_level</th>\n",
       "    </tr>\n",
       "  </thead>\n",
       "  <tbody>\n",
       "    <tr>\n",
       "      <th>0</th>\n",
       "      <td>73</td>\n",
       "      <td>Not in universe</td>\n",
       "      <td>0</td>\n",
       "      <td>0</td>\n",
       "      <td>High school graduate</td>\n",
       "      <td>0</td>\n",
       "      <td>Not in universe</td>\n",
       "      <td>Widowed</td>\n",
       "      <td>Not in universe or children</td>\n",
       "      <td>Not in universe</td>\n",
       "      <td>...</td>\n",
       "      <td>United-States</td>\n",
       "      <td>United-States</td>\n",
       "      <td>United-States</td>\n",
       "      <td>Native- Born in the United States</td>\n",
       "      <td>0</td>\n",
       "      <td>Not in universe</td>\n",
       "      <td>2</td>\n",
       "      <td>0</td>\n",
       "      <td>95</td>\n",
       "      <td>-50000</td>\n",
       "    </tr>\n",
       "    <tr>\n",
       "      <th>1</th>\n",
       "      <td>58</td>\n",
       "      <td>Self-employed-not incorporated</td>\n",
       "      <td>4</td>\n",
       "      <td>34</td>\n",
       "      <td>Some college but no degree</td>\n",
       "      <td>0</td>\n",
       "      <td>Not in universe</td>\n",
       "      <td>Divorced</td>\n",
       "      <td>Construction</td>\n",
       "      <td>Precision production craft &amp; repair</td>\n",
       "      <td>...</td>\n",
       "      <td>United-States</td>\n",
       "      <td>United-States</td>\n",
       "      <td>United-States</td>\n",
       "      <td>Native- Born in the United States</td>\n",
       "      <td>0</td>\n",
       "      <td>Not in universe</td>\n",
       "      <td>2</td>\n",
       "      <td>52</td>\n",
       "      <td>94</td>\n",
       "      <td>-50000</td>\n",
       "    </tr>\n",
       "    <tr>\n",
       "      <th>2</th>\n",
       "      <td>18</td>\n",
       "      <td>Not in universe</td>\n",
       "      <td>0</td>\n",
       "      <td>0</td>\n",
       "      <td>10th grade</td>\n",
       "      <td>0</td>\n",
       "      <td>High school</td>\n",
       "      <td>Never married</td>\n",
       "      <td>Not in universe or children</td>\n",
       "      <td>Not in universe</td>\n",
       "      <td>...</td>\n",
       "      <td>Vietnam</td>\n",
       "      <td>Vietnam</td>\n",
       "      <td>Vietnam</td>\n",
       "      <td>Foreign born- Not a citizen of U S</td>\n",
       "      <td>0</td>\n",
       "      <td>Not in universe</td>\n",
       "      <td>2</td>\n",
       "      <td>0</td>\n",
       "      <td>95</td>\n",
       "      <td>-50000</td>\n",
       "    </tr>\n",
       "    <tr>\n",
       "      <th>3</th>\n",
       "      <td>9</td>\n",
       "      <td>Not in universe</td>\n",
       "      <td>0</td>\n",
       "      <td>0</td>\n",
       "      <td>Children</td>\n",
       "      <td>0</td>\n",
       "      <td>Not in universe</td>\n",
       "      <td>Never married</td>\n",
       "      <td>Not in universe or children</td>\n",
       "      <td>Not in universe</td>\n",
       "      <td>...</td>\n",
       "      <td>United-States</td>\n",
       "      <td>United-States</td>\n",
       "      <td>United-States</td>\n",
       "      <td>Native- Born in the United States</td>\n",
       "      <td>0</td>\n",
       "      <td>Not in universe</td>\n",
       "      <td>0</td>\n",
       "      <td>0</td>\n",
       "      <td>94</td>\n",
       "      <td>-50000</td>\n",
       "    </tr>\n",
       "    <tr>\n",
       "      <th>4</th>\n",
       "      <td>10</td>\n",
       "      <td>Not in universe</td>\n",
       "      <td>0</td>\n",
       "      <td>0</td>\n",
       "      <td>Children</td>\n",
       "      <td>0</td>\n",
       "      <td>Not in universe</td>\n",
       "      <td>Never married</td>\n",
       "      <td>Not in universe or children</td>\n",
       "      <td>Not in universe</td>\n",
       "      <td>...</td>\n",
       "      <td>United-States</td>\n",
       "      <td>United-States</td>\n",
       "      <td>United-States</td>\n",
       "      <td>Native- Born in the United States</td>\n",
       "      <td>0</td>\n",
       "      <td>Not in universe</td>\n",
       "      <td>0</td>\n",
       "      <td>0</td>\n",
       "      <td>94</td>\n",
       "      <td>-50000</td>\n",
       "    </tr>\n",
       "  </tbody>\n",
       "</table>\n",
       "<p>5 rows × 41 columns</p>\n",
       "</div>"
      ],
      "text/plain": [
       "   age                 class_of_worker  industry_code  occupation_code  \\\n",
       "0   73                 Not in universe              0                0   \n",
       "1   58  Self-employed-not incorporated              4               34   \n",
       "2   18                 Not in universe              0                0   \n",
       "3    9                 Not in universe              0                0   \n",
       "4   10                 Not in universe              0                0   \n",
       "\n",
       "                    education  wage_per_hour enrolled_in_edu_inst_lastwk  \\\n",
       "0        High school graduate              0             Not in universe   \n",
       "1  Some college but no degree              0             Not in universe   \n",
       "2                  10th grade              0                 High school   \n",
       "3                    Children              0             Not in universe   \n",
       "4                    Children              0             Not in universe   \n",
       "\n",
       "  marital_status          major_industry_code  \\\n",
       "0        Widowed  Not in universe or children   \n",
       "1       Divorced                 Construction   \n",
       "2  Never married  Not in universe or children   \n",
       "3  Never married  Not in universe or children   \n",
       "4  Never married  Not in universe or children   \n",
       "\n",
       "                 major_occupation_code     ...      country_father  \\\n",
       "0                      Not in universe     ...       United-States   \n",
       "1  Precision production craft & repair     ...       United-States   \n",
       "2                      Not in universe     ...             Vietnam   \n",
       "3                      Not in universe     ...       United-States   \n",
       "4                      Not in universe     ...       United-States   \n",
       "\n",
       "  country_mother   country_self                         citizenship  \\\n",
       "0  United-States  United-States   Native- Born in the United States   \n",
       "1  United-States  United-States   Native- Born in the United States   \n",
       "2        Vietnam        Vietnam  Foreign born- Not a citizen of U S   \n",
       "3  United-States  United-States   Native- Born in the United States   \n",
       "4  United-States  United-States   Native- Born in the United States   \n",
       "\n",
       "  business_or_self_employed fill_questionnaire_veteran_admin  \\\n",
       "0                         0                  Not in universe   \n",
       "1                         0                  Not in universe   \n",
       "2                         0                  Not in universe   \n",
       "3                         0                  Not in universe   \n",
       "4                         0                  Not in universe   \n",
       "\n",
       "   veterans_benefits  weeks_worked_in_year  year income_level  \n",
       "0                  2                     0    95       -50000  \n",
       "1                  2                    52    94       -50000  \n",
       "2                  2                     0    95       -50000  \n",
       "3                  0                     0    94       -50000  \n",
       "4                  0                     0    94       -50000  \n",
       "\n",
       "[5 rows x 41 columns]"
      ]
     },
     "execution_count": 6,
     "metadata": {},
     "output_type": "execute_result"
    }
   ],
   "source": [
    "# Check 5 samples of train\n",
    "train.head()"
   ]
  },
  {
   "cell_type": "code",
   "execution_count": 7,
   "metadata": {
    "collapsed": false
   },
   "outputs": [
    {
     "data": {
      "text/html": [
       "<div>\n",
       "<table border=\"1\" class=\"dataframe\">\n",
       "  <thead>\n",
       "    <tr style=\"text-align: right;\">\n",
       "      <th></th>\n",
       "      <th>age</th>\n",
       "      <th>class_of_worker</th>\n",
       "      <th>industry_code</th>\n",
       "      <th>occupation_code</th>\n",
       "      <th>education</th>\n",
       "      <th>wage_per_hour</th>\n",
       "      <th>enrolled_in_edu_inst_lastwk</th>\n",
       "      <th>marital_status</th>\n",
       "      <th>major_industry_code</th>\n",
       "      <th>major_occupation_code</th>\n",
       "      <th>...</th>\n",
       "      <th>country_father</th>\n",
       "      <th>country_mother</th>\n",
       "      <th>country_self</th>\n",
       "      <th>citizenship</th>\n",
       "      <th>business_or_self_employed</th>\n",
       "      <th>fill_questionnaire_veteran_admin</th>\n",
       "      <th>veterans_benefits</th>\n",
       "      <th>weeks_worked_in_year</th>\n",
       "      <th>year</th>\n",
       "      <th>income_level</th>\n",
       "    </tr>\n",
       "  </thead>\n",
       "  <tbody>\n",
       "    <tr>\n",
       "      <th>0</th>\n",
       "      <td>38</td>\n",
       "      <td>Private</td>\n",
       "      <td>6</td>\n",
       "      <td>36</td>\n",
       "      <td>1st 2nd 3rd or 4th grade</td>\n",
       "      <td>0</td>\n",
       "      <td>Not in universe</td>\n",
       "      <td>Married-civilian spouse present</td>\n",
       "      <td>Manufacturing-durable goods</td>\n",
       "      <td>Machine operators assmblrs &amp; inspctrs</td>\n",
       "      <td>...</td>\n",
       "      <td>Mexico</td>\n",
       "      <td>Mexico</td>\n",
       "      <td>Mexico</td>\n",
       "      <td>Foreign born- Not a citizen of U S</td>\n",
       "      <td>0</td>\n",
       "      <td>Not in universe</td>\n",
       "      <td>2</td>\n",
       "      <td>12</td>\n",
       "      <td>95</td>\n",
       "      <td>-50000</td>\n",
       "    </tr>\n",
       "    <tr>\n",
       "      <th>1</th>\n",
       "      <td>44</td>\n",
       "      <td>Self-employed-not incorporated</td>\n",
       "      <td>37</td>\n",
       "      <td>12</td>\n",
       "      <td>Associates degree-occup /vocational</td>\n",
       "      <td>0</td>\n",
       "      <td>Not in universe</td>\n",
       "      <td>Married-civilian spouse present</td>\n",
       "      <td>Business and repair services</td>\n",
       "      <td>Professional specialty</td>\n",
       "      <td>...</td>\n",
       "      <td>United-States</td>\n",
       "      <td>United-States</td>\n",
       "      <td>United-States</td>\n",
       "      <td>Native- Born in the United States</td>\n",
       "      <td>0</td>\n",
       "      <td>Not in universe</td>\n",
       "      <td>2</td>\n",
       "      <td>26</td>\n",
       "      <td>95</td>\n",
       "      <td>-50000</td>\n",
       "    </tr>\n",
       "    <tr>\n",
       "      <th>2</th>\n",
       "      <td>2</td>\n",
       "      <td>Not in universe</td>\n",
       "      <td>0</td>\n",
       "      <td>0</td>\n",
       "      <td>Children</td>\n",
       "      <td>0</td>\n",
       "      <td>Not in universe</td>\n",
       "      <td>Never married</td>\n",
       "      <td>Not in universe or children</td>\n",
       "      <td>Not in universe</td>\n",
       "      <td>...</td>\n",
       "      <td>United-States</td>\n",
       "      <td>United-States</td>\n",
       "      <td>United-States</td>\n",
       "      <td>Native- Born in the United States</td>\n",
       "      <td>0</td>\n",
       "      <td>Not in universe</td>\n",
       "      <td>0</td>\n",
       "      <td>0</td>\n",
       "      <td>95</td>\n",
       "      <td>-50000</td>\n",
       "    </tr>\n",
       "    <tr>\n",
       "      <th>3</th>\n",
       "      <td>35</td>\n",
       "      <td>Private</td>\n",
       "      <td>29</td>\n",
       "      <td>3</td>\n",
       "      <td>High school graduate</td>\n",
       "      <td>0</td>\n",
       "      <td>Not in universe</td>\n",
       "      <td>Divorced</td>\n",
       "      <td>Transportation</td>\n",
       "      <td>Executive admin and managerial</td>\n",
       "      <td>...</td>\n",
       "      <td>United-States</td>\n",
       "      <td>United-States</td>\n",
       "      <td>United-States</td>\n",
       "      <td>Native- Born in the United States</td>\n",
       "      <td>2</td>\n",
       "      <td>Not in universe</td>\n",
       "      <td>2</td>\n",
       "      <td>52</td>\n",
       "      <td>94</td>\n",
       "      <td>-50000</td>\n",
       "    </tr>\n",
       "    <tr>\n",
       "      <th>4</th>\n",
       "      <td>49</td>\n",
       "      <td>Private</td>\n",
       "      <td>4</td>\n",
       "      <td>34</td>\n",
       "      <td>High school graduate</td>\n",
       "      <td>0</td>\n",
       "      <td>Not in universe</td>\n",
       "      <td>Divorced</td>\n",
       "      <td>Construction</td>\n",
       "      <td>Precision production craft &amp; repair</td>\n",
       "      <td>...</td>\n",
       "      <td>United-States</td>\n",
       "      <td>United-States</td>\n",
       "      <td>United-States</td>\n",
       "      <td>Native- Born in the United States</td>\n",
       "      <td>0</td>\n",
       "      <td>Not in universe</td>\n",
       "      <td>2</td>\n",
       "      <td>50</td>\n",
       "      <td>95</td>\n",
       "      <td>-50000</td>\n",
       "    </tr>\n",
       "  </tbody>\n",
       "</table>\n",
       "<p>5 rows × 41 columns</p>\n",
       "</div>"
      ],
      "text/plain": [
       "   age                  class_of_worker  industry_code  occupation_code  \\\n",
       "0   38                          Private              6               36   \n",
       "1   44   Self-employed-not incorporated             37               12   \n",
       "2    2                  Not in universe              0                0   \n",
       "3   35                          Private             29                3   \n",
       "4   49                          Private              4               34   \n",
       "\n",
       "                              education  wage_per_hour  \\\n",
       "0              1st 2nd 3rd or 4th grade              0   \n",
       "1   Associates degree-occup /vocational              0   \n",
       "2                              Children              0   \n",
       "3                  High school graduate              0   \n",
       "4                  High school graduate              0   \n",
       "\n",
       "  enrolled_in_edu_inst_lastwk                    marital_status  \\\n",
       "0             Not in universe   Married-civilian spouse present   \n",
       "1             Not in universe   Married-civilian spouse present   \n",
       "2             Not in universe                     Never married   \n",
       "3             Not in universe                          Divorced   \n",
       "4             Not in universe                          Divorced   \n",
       "\n",
       "             major_industry_code                   major_occupation_code  \\\n",
       "0    Manufacturing-durable goods   Machine operators assmblrs & inspctrs   \n",
       "1   Business and repair services                  Professional specialty   \n",
       "2    Not in universe or children                         Not in universe   \n",
       "3                 Transportation          Executive admin and managerial   \n",
       "4                   Construction     Precision production craft & repair   \n",
       "\n",
       "      ...       country_father  country_mother    country_self  \\\n",
       "0     ...               Mexico          Mexico          Mexico   \n",
       "1     ...        United-States   United-States   United-States   \n",
       "2     ...        United-States   United-States   United-States   \n",
       "3     ...        United-States   United-States   United-States   \n",
       "4     ...        United-States   United-States   United-States   \n",
       "\n",
       "                            citizenship business_or_self_employed  \\\n",
       "0   Foreign born- Not a citizen of U S                          0   \n",
       "1     Native- Born in the United States                         0   \n",
       "2     Native- Born in the United States                         0   \n",
       "3     Native- Born in the United States                         2   \n",
       "4     Native- Born in the United States                         0   \n",
       "\n",
       "  fill_questionnaire_veteran_admin  veterans_benefits  weeks_worked_in_year  \\\n",
       "0                  Not in universe                  2                    12   \n",
       "1                  Not in universe                  2                    26   \n",
       "2                  Not in universe                  0                     0   \n",
       "3                  Not in universe                  2                    52   \n",
       "4                  Not in universe                  2                    50   \n",
       "\n",
       "   year income_level  \n",
       "0    95       -50000  \n",
       "1    95       -50000  \n",
       "2    95       -50000  \n",
       "3    94       -50000  \n",
       "4    95       -50000  \n",
       "\n",
       "[5 rows x 41 columns]"
      ]
     },
     "execution_count": 7,
     "metadata": {},
     "output_type": "execute_result"
    }
   ],
   "source": [
    "# Check 5 samples of test\n",
    "test.head()"
   ]
  },
  {
   "cell_type": "markdown",
   "metadata": {},
   "source": [
    "Let's check unique values of target variable in both train and test data."
   ]
  },
  {
   "cell_type": "code",
   "execution_count": 11,
   "metadata": {
    "collapsed": false
   },
   "outputs": [
    {
     "name": "stdout",
     "output_type": "stream",
     "text": [
      "Train: [-50000  50000]\n",
      "Test: ['-50000' ' 50000+.']\n"
     ]
    }
   ],
   "source": [
    "# Check target variable\n",
    "print \"Train: {}\".format(train.income_level.unique())\n",
    "print \"Test: {}\".format(test.income_level.unique())"
   ]
  },
  {
   "cell_type": "markdown",
   "metadata": {},
   "source": [
    "Because target variable only has two unique values, it's a binary classificaton problem"
   ]
  },
  {
   "cell_type": "code",
   "execution_count": 4,
   "metadata": {
    "collapsed": false
   },
   "outputs": [
    {
     "name": "stdout",
     "output_type": "stream",
     "text": [
      "Distribution of train: \n",
      "0    187141\n",
      "1     12382\n",
      "Distribution of test: \n",
      "0    93576\n",
      "1     6186\n"
     ]
    }
   ],
   "source": [
    "# Check severity of imbalanced class\n",
    "train['income_encode'] = np.where(train.income_level == -50000, 0, 1)\n",
    "test['income_encode'] = np.where(test.income_level == \"-50000\", 0, 1)\n",
    "print \"Distribution of train: \\n{}\".format(train.income_encode.value_counts().to_string())\n",
    "print \"Distribution of test: \\n{}\".format(test.income_encode.value_counts().to_string())"
   ]
  },
  {
   "cell_type": "markdown",
   "metadata": {},
   "source": [
    "Now we could seperate data categorical and numerical features, it will help us in further analysis."
   ]
  },
  {
   "cell_type": "code",
   "execution_count": 5,
   "metadata": {
    "collapsed": false
   },
   "outputs": [],
   "source": [
    "cat_list = [1,2,3,4,6,7,8,9,10,11,12,13,14,15,19,20,21,22,23,24,25,26,27,28,30,31,32,33,34,35,36,37,39,40,41]\n",
    "num_list = [0,5,16,17,18,29,38]\n",
    "# Subset of categorical variables\n",
    "cat_train = train[cat_list]\n",
    "cat_test = test[cat_list]\n",
    "# Subset of numerical variables\n",
    "num_train = train[num_list]\n",
    "num_test = test[num_list]\n",
    "\n",
    "del(train)\n",
    "del(test)"
   ]
  },
  {
   "cell_type": "markdown",
   "metadata": {},
   "source": [
    "We can see that people whose age is larger than 20 would have income level 1."
   ]
  },
  {
   "cell_type": "code",
   "execution_count": 21,
   "metadata": {
    "collapsed": false
   },
   "outputs": [
    {
     "data": {
      "text/plain": [
       "<matplotlib.text.Text at 0x1096dfed0>"
      ]
     },
     "execution_count": 21,
     "metadata": {},
     "output_type": "execute_result"
    },
    {
     "data": {
      "image/png": "[encoded data removed]",
      "text/plain": [
       "<matplotlib.figure.Figure at 0x106da1050>"
      ]
     },
     "metadata": {},
     "output_type": "display_data"
    }
   ],
   "source": [
    "plt.hist(num_train[cat_train.income_encode == 0].age,bins=50,label=\"0\")\n",
    "plt.hist(num_train[cat_train.income_encode == 1].age,bins=50,label=\"1\")\n",
    "plt.legend()\n",
    "plt.grid()\n",
    "plt.title(\"Histogram of Age\")\n",
    "plt.xlabel('Age')\n",
    "plt.ylabel('Frequency')"
   ]
  },
  {
   "cell_type": "markdown",
   "metadata": {},
   "source": [
    "In skewed distribution, normalizing is always an option."
   ]
  },
  {
   "cell_type": "code",
   "execution_count": 91,
   "metadata": {
    "collapsed": false
   },
   "outputs": [
    {
     "name": "stdout",
     "output_type": "stream",
     "text": [
      "Top 5 common values of capital losses: \n",
      "0       195617\n",
      "1902       407\n",
      "1977       381\n",
      "1887       364\n",
      "1602       193\n",
      "Bottom 5 common values of capital losses: \n",
      "974     2\n",
      "155     1\n",
      "2080    1\n",
      "2519    1\n",
      "1911    1\n"
     ]
    },
    {
     "data": {
      "text/plain": [
       "<matplotlib.text.Text at 0x10fddc110>"
      ]
     },
     "execution_count": 91,
     "metadata": {},
     "output_type": "execute_result"
    },
    {
     "data": {
      "image/png": "[encoded data removed]",
      "text/plain": [
       "<matplotlib.figure.Figure at 0x10f9cb710>"
      ]
     },
     "metadata": {},
     "output_type": "display_data"
    }
   ],
   "source": [
    "print \"Top 5 common values of capital losses: \\n{}\".format(num_train.capital_losses.value_counts().head().to_string())\n",
    "print \"Bottom 5 common values of capital losses: \\n{}\".format(num_train.capital_losses.value_counts().tail().to_string())\n",
    "num_train.capital_losses.hist(bins=200)\n",
    "plt.title(\"Histogram of Capital Losses\")\n",
    "plt.xlabel('Capital Losses')\n",
    "plt.ylabel('Frequency')"
   ]
  },
  {
   "cell_type": "markdown",
   "metadata": {},
   "source": [
    "We can see that people whose wage/hr is smaller than 4000 would have income level 1."
   ]
  },
  {
   "cell_type": "code",
   "execution_count": 20,
   "metadata": {
    "collapsed": false
   },
   "outputs": [
    {
     "data": {
      "text/plain": [
       "<matplotlib.text.Text at 0x106f6a6d0>"
      ]
     },
     "execution_count": 20,
     "metadata": {},
     "output_type": "execute_result"
    },
    {
     "data": {
      "image/png": "[encoded data removed]",
      "text/plain": [
       "<matplotlib.figure.Figure at 0x106f08690>"
      ]
     },
     "metadata": {},
     "output_type": "display_data"
    }
   ],
   "source": [
    "plt.scatter(num_train[cat_train.income_encode == 0].age, num_train[cat_train.income_encode == 0].wage_per_hour, \n",
    "            color=\"blue\",label=\"0\")\n",
    "plt.scatter(num_train[cat_train.income_encode == 1].age, num_train[cat_train.income_encode == 1].wage_per_hour, \n",
    "            color=\"red\",label=\"1\")\n",
    "plt.legend()\n",
    "plt.grid()\n",
    "plt.title(\"Scatter of Age and Wage/hr\")\n",
    "plt.xlabel('Age')\n",
    "plt.ylabel('Wage per Hour')"
   ]
  },
  {
   "cell_type": "markdown",
   "metadata": {},
   "source": [
    "We can see that people whose captial losses is smaller than 3000 would have income level 1."
   ]
  },
  {
   "cell_type": "code",
   "execution_count": 14,
   "metadata": {
    "collapsed": false
   },
   "outputs": [
    {
     "data": {
      "text/plain": [
       "<matplotlib.text.Text at 0x109d0c950>"
      ]
     },
     "execution_count": 14,
     "metadata": {},
     "output_type": "execute_result"
    },
    {
     "data": {
      "image/png": "[encoded data removed]",
      "text/plain": [
       "<matplotlib.figure.Figure at 0x106e7ec10>"
      ]
     },
     "metadata": {},
     "output_type": "display_data"
    }
   ],
   "source": [
    "plt.scatter(num_train[cat_train.income_encode == 0].age, num_train[cat_train.income_encode == 0].capital_losses, \n",
    "            color=\"blue\",label=\"0\")\n",
    "plt.scatter(num_train[cat_train.income_encode == 1].age, num_train[cat_train.income_encode == 1].capital_losses, \n",
    "            color=\"red\",label=\"1\")\n",
    "plt.legend()\n",
    "plt.grid()\n",
    "plt.title(\"Scatter of Age and Capital losses\")\n",
    "plt.xlabel('Age')\n",
    "plt.ylabel('Capital Losses')"
   ]
  },
  {
   "cell_type": "markdown",
   "metadata": {},
   "source": [
    "In both income level, most people have private class of work."
   ]
  },
  {
   "cell_type": "code",
   "execution_count": 16,
   "metadata": {
    "collapsed": false
   },
   "outputs": [
    {
     "data": {
      "text/plain": [
       "<matplotlib.text.Text at 0x10afe5550>"
      ]
     },
     "execution_count": 16,
     "metadata": {},
     "output_type": "execute_result"
    },
    {
     "data": {
      "image/png": "[encoded data removed]",
      "text/plain": [
       "<matplotlib.figure.Figure at 0x105cf2350>"
      ]
     },
     "metadata": {},
     "output_type": "display_data"
    }
   ],
   "source": [
    "cat_train[cat_train.income_encode == 0].class_of_worker.value_counts().plot(kind='bar', label=\"0\", color=\"blue\")\n",
    "cat_train[cat_train.income_encode == 1].class_of_worker.value_counts().plot(kind='bar', label=\"1\", color=\"red\")\n",
    "plt.legend()\n",
    "plt.grid()\n",
    "plt.title(\"Histogram of class of worker\")\n",
    "plt.xlabel('Class of Worker')\n",
    "plt.ylabel('Frequency')"
   ]
  },
  {
   "cell_type": "markdown",
   "metadata": {},
   "source": [
    "All children have income level 0, and Bachelors degree holders have the largest propotion of people have income level 1."
   ]
  },
  {
   "cell_type": "code",
   "execution_count": 17,
   "metadata": {
    "collapsed": false
   },
   "outputs": [
    {
     "data": {
      "text/plain": [
       "<matplotlib.text.Text at 0x10b39d5d0>"
      ]
     },
     "execution_count": 17,
     "metadata": {},
     "output_type": "execute_result"
    },
    {
     "data": {
      "image/png": "[encoded data removed]",
      "text/plain": [
       "<matplotlib.figure.Figure at 0x1079f1650>"
      ]
     },
     "metadata": {},
     "output_type": "display_data"
    }
   ],
   "source": [
    "cat_train[cat_train.income_encode == 0].education.value_counts().plot(kind='bar', label=\"0\", color=\"blue\")\n",
    "cat_train[cat_train.income_encode == 1].education.value_counts().plot(kind='bar', label=\"1\", color=\"red\")\n",
    "plt.legend()\n",
    "plt.grid()\n",
    "plt.title(\"Histogram of education\")\n",
    "plt.xlabel('Education')\n",
    "plt.ylabel('Frequency')"
   ]
  },
  {
   "cell_type": "markdown",
   "metadata": {},
   "source": [
    "## Data Cleaning"
   ]
  },
  {
   "cell_type": "markdown",
   "metadata": {},
   "source": [
    "Check if there is missing value in train and test data"
   ]
  },
  {
   "cell_type": "code",
   "execution_count": 26,
   "metadata": {
    "collapsed": false
   },
   "outputs": [
    {
     "name": "stdout",
     "output_type": "stream",
     "text": [
      "Number of missing values in train data: 0\n",
      "Number of missing values in test data: 0\n"
     ]
    }
   ],
   "source": [
    "print \"Number of missing values in train data: {}\".format(num_train[num_train.isnull().any(1)].shape[0])\n",
    "print \"Number of missing values in test data: {}\".format(num_test[num_test.isnull().any(1)].shape[0])"
   ]
  },
  {
   "cell_type": "code",
   "execution_count": 27,
   "metadata": {
    "collapsed": false
   },
   "outputs": [
    {
     "data": {
      "text/html": [
       "<div>\n",
       "<table border=\"1\" class=\"dataframe\">\n",
       "  <thead>\n",
       "    <tr style=\"text-align: right;\">\n",
       "      <th></th>\n",
       "      <th>age</th>\n",
       "      <th>wage_per_hour</th>\n",
       "      <th>capital_gains</th>\n",
       "      <th>capital_losses</th>\n",
       "      <th>dividend_from_Stocks</th>\n",
       "      <th>num_person_Worked_employer</th>\n",
       "      <th>weeks_worked_in_year</th>\n",
       "    </tr>\n",
       "  </thead>\n",
       "  <tbody>\n",
       "    <tr>\n",
       "      <th>age</th>\n",
       "      <td>1.000000</td>\n",
       "      <td>0.036938</td>\n",
       "      <td>0.053590</td>\n",
       "      <td>0.063351</td>\n",
       "      <td>0.104976</td>\n",
       "      <td>0.140887</td>\n",
       "      <td>0.206181</td>\n",
       "    </tr>\n",
       "    <tr>\n",
       "      <th>wage_per_hour</th>\n",
       "      <td>0.036938</td>\n",
       "      <td>1.000000</td>\n",
       "      <td>-0.001082</td>\n",
       "      <td>0.010993</td>\n",
       "      <td>-0.005731</td>\n",
       "      <td>0.191543</td>\n",
       "      <td>0.195687</td>\n",
       "    </tr>\n",
       "    <tr>\n",
       "      <th>capital_gains</th>\n",
       "      <td>0.053590</td>\n",
       "      <td>-0.001082</td>\n",
       "      <td>1.000000</td>\n",
       "      <td>-0.012700</td>\n",
       "      <td>0.131476</td>\n",
       "      <td>0.058015</td>\n",
       "      <td>0.083549</td>\n",
       "    </tr>\n",
       "    <tr>\n",
       "      <th>capital_losses</th>\n",
       "      <td>0.063351</td>\n",
       "      <td>0.010993</td>\n",
       "      <td>-0.012700</td>\n",
       "      <td>1.000000</td>\n",
       "      <td>0.042427</td>\n",
       "      <td>0.084255</td>\n",
       "      <td>0.100762</td>\n",
       "    </tr>\n",
       "    <tr>\n",
       "      <th>dividend_from_Stocks</th>\n",
       "      <td>0.104976</td>\n",
       "      <td>-0.005731</td>\n",
       "      <td>0.131476</td>\n",
       "      <td>0.042427</td>\n",
       "      <td>1.000000</td>\n",
       "      <td>0.007206</td>\n",
       "      <td>0.013823</td>\n",
       "    </tr>\n",
       "    <tr>\n",
       "      <th>num_person_Worked_employer</th>\n",
       "      <td>0.140887</td>\n",
       "      <td>0.191543</td>\n",
       "      <td>0.058015</td>\n",
       "      <td>0.084255</td>\n",
       "      <td>0.007206</td>\n",
       "      <td>1.000000</td>\n",
       "      <td>0.747302</td>\n",
       "    </tr>\n",
       "    <tr>\n",
       "      <th>weeks_worked_in_year</th>\n",
       "      <td>0.206181</td>\n",
       "      <td>0.195687</td>\n",
       "      <td>0.083549</td>\n",
       "      <td>0.100762</td>\n",
       "      <td>0.013823</td>\n",
       "      <td>0.747302</td>\n",
       "      <td>1.000000</td>\n",
       "    </tr>\n",
       "  </tbody>\n",
       "</table>\n",
       "</div>"
      ],
      "text/plain": [
       "                                 age  wage_per_hour  capital_gains  \\\n",
       "age                         1.000000       0.036938       0.053590   \n",
       "wage_per_hour               0.036938       1.000000      -0.001082   \n",
       "capital_gains               0.053590      -0.001082       1.000000   \n",
       "capital_losses              0.063351       0.010993      -0.012700   \n",
       "dividend_from_Stocks        0.104976      -0.005731       0.131476   \n",
       "num_person_Worked_employer  0.140887       0.191543       0.058015   \n",
       "weeks_worked_in_year        0.206181       0.195687       0.083549   \n",
       "\n",
       "                            capital_losses  dividend_from_Stocks  \\\n",
       "age                               0.063351              0.104976   \n",
       "wage_per_hour                     0.010993             -0.005731   \n",
       "capital_gains                    -0.012700              0.131476   \n",
       "capital_losses                    1.000000              0.042427   \n",
       "dividend_from_Stocks              0.042427              1.000000   \n",
       "num_person_Worked_employer        0.084255              0.007206   \n",
       "weeks_worked_in_year              0.100762              0.013823   \n",
       "\n",
       "                            num_person_Worked_employer  weeks_worked_in_year  \n",
       "age                                           0.140887              0.206181  \n",
       "wage_per_hour                                 0.191543              0.195687  \n",
       "capital_gains                                 0.058015              0.083549  \n",
       "capital_losses                                0.084255              0.100762  \n",
       "dividend_from_Stocks                          0.007206              0.013823  \n",
       "num_person_Worked_employer                    1.000000              0.747302  \n",
       "weeks_worked_in_year                          0.747302              1.000000  "
      ]
     },
     "execution_count": 27,
     "metadata": {},
     "output_type": "execute_result"
    }
   ],
   "source": [
    "num_train.corr()"
   ]
  },
  {
   "cell_type": "code",
   "execution_count": 28,
   "metadata": {
    "collapsed": false
   },
   "outputs": [
    {
     "data": {
      "text/html": [
       "<div>\n",
       "<table border=\"1\" class=\"dataframe\">\n",
       "  <thead>\n",
       "    <tr style=\"text-align: right;\">\n",
       "      <th></th>\n",
       "      <th>age</th>\n",
       "      <th>wage_per_hour</th>\n",
       "      <th>capital_gains</th>\n",
       "      <th>capital_losses</th>\n",
       "      <th>dividend_from_Stocks</th>\n",
       "      <th>num_person_Worked_employer</th>\n",
       "      <th>weeks_worked_in_year</th>\n",
       "    </tr>\n",
       "  </thead>\n",
       "  <tbody>\n",
       "    <tr>\n",
       "      <th>age</th>\n",
       "      <td>1.000000</td>\n",
       "      <td>0.032432</td>\n",
       "      <td>0.051575</td>\n",
       "      <td>0.060118</td>\n",
       "      <td>0.109296</td>\n",
       "      <td>0.131897</td>\n",
       "      <td>0.196325</td>\n",
       "    </tr>\n",
       "    <tr>\n",
       "      <th>wage_per_hour</th>\n",
       "      <td>0.032432</td>\n",
       "      <td>1.000000</td>\n",
       "      <td>0.008497</td>\n",
       "      <td>0.016949</td>\n",
       "      <td>-0.009860</td>\n",
       "      <td>0.188827</td>\n",
       "      <td>0.194879</td>\n",
       "    </tr>\n",
       "    <tr>\n",
       "      <th>capital_gains</th>\n",
       "      <td>0.051575</td>\n",
       "      <td>0.008497</td>\n",
       "      <td>1.000000</td>\n",
       "      <td>-0.012476</td>\n",
       "      <td>0.110983</td>\n",
       "      <td>0.062618</td>\n",
       "      <td>0.085069</td>\n",
       "    </tr>\n",
       "    <tr>\n",
       "      <th>capital_losses</th>\n",
       "      <td>0.060118</td>\n",
       "      <td>0.016949</td>\n",
       "      <td>-0.012476</td>\n",
       "      <td>1.000000</td>\n",
       "      <td>0.042788</td>\n",
       "      <td>0.080337</td>\n",
       "      <td>0.098465</td>\n",
       "    </tr>\n",
       "    <tr>\n",
       "      <th>dividend_from_Stocks</th>\n",
       "      <td>0.109296</td>\n",
       "      <td>-0.009860</td>\n",
       "      <td>0.110983</td>\n",
       "      <td>0.042788</td>\n",
       "      <td>1.000000</td>\n",
       "      <td>0.005614</td>\n",
       "      <td>0.013862</td>\n",
       "    </tr>\n",
       "    <tr>\n",
       "      <th>num_person_Worked_employer</th>\n",
       "      <td>0.131897</td>\n",
       "      <td>0.188827</td>\n",
       "      <td>0.062618</td>\n",
       "      <td>0.080337</td>\n",
       "      <td>0.005614</td>\n",
       "      <td>1.000000</td>\n",
       "      <td>0.746980</td>\n",
       "    </tr>\n",
       "    <tr>\n",
       "      <th>weeks_worked_in_year</th>\n",
       "      <td>0.196325</td>\n",
       "      <td>0.194879</td>\n",
       "      <td>0.085069</td>\n",
       "      <td>0.098465</td>\n",
       "      <td>0.013862</td>\n",
       "      <td>0.746980</td>\n",
       "      <td>1.000000</td>\n",
       "    </tr>\n",
       "  </tbody>\n",
       "</table>\n",
       "</div>"
      ],
      "text/plain": [
       "                                 age  wage_per_hour  capital_gains  \\\n",
       "age                         1.000000       0.032432       0.051575   \n",
       "wage_per_hour               0.032432       1.000000       0.008497   \n",
       "capital_gains               0.051575       0.008497       1.000000   \n",
       "capital_losses              0.060118       0.016949      -0.012476   \n",
       "dividend_from_Stocks        0.109296      -0.009860       0.110983   \n",
       "num_person_Worked_employer  0.131897       0.188827       0.062618   \n",
       "weeks_worked_in_year        0.196325       0.194879       0.085069   \n",
       "\n",
       "                            capital_losses  dividend_from_Stocks  \\\n",
       "age                               0.060118              0.109296   \n",
       "wage_per_hour                     0.016949             -0.009860   \n",
       "capital_gains                    -0.012476              0.110983   \n",
       "capital_losses                    1.000000              0.042788   \n",
       "dividend_from_Stocks              0.042788              1.000000   \n",
       "num_person_Worked_employer        0.080337              0.005614   \n",
       "weeks_worked_in_year              0.098465              0.013862   \n",
       "\n",
       "                            num_person_Worked_employer  weeks_worked_in_year  \n",
       "age                                           0.131897              0.196325  \n",
       "wage_per_hour                                 0.188827              0.194879  \n",
       "capital_gains                                 0.062618              0.085069  \n",
       "capital_losses                                0.080337              0.098465  \n",
       "dividend_from_Stocks                          0.005614              0.013862  \n",
       "num_person_Worked_employer                    1.000000              0.746980  \n",
       "weeks_worked_in_year                          0.746980              1.000000  "
      ]
     },
     "execution_count": 28,
     "metadata": {},
     "output_type": "execute_result"
    }
   ],
   "source": [
    "num_test.corr()"
   ]
  },
  {
   "cell_type": "code",
   "execution_count": null,
   "metadata": {
    "collapsed": true
   },
   "outputs": [],
   "source": []
  }
 ],
 "metadata": {
  "kernelspec": {
   "display_name": "Python 2",
   "language": "python",
   "name": "python2"
  },
  "language_info": {
   "codemirror_mode": {
    "name": "ipython",
    "version": 2
   },
   "file_extension": ".py",
   "mimetype": "text/x-python",
   "name": "python",
   "nbconvert_exporter": "python",
   "pygments_lexer": "ipython2",
   "version": "2.7.11"
  }
 },
 "nbformat": 4,
 "nbformat_minor": 0
}
